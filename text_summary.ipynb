{
 "cells": [
  {
   "cell_type": "markdown",
   "metadata": {},
   "source": [
    "## Podsumowanie tekstu"
   ]
  },
  {
   "cell_type": "code",
   "execution_count": 1,
   "metadata": {
    "collapsed": true
   },
   "outputs": [],
   "source": [
    "from docx import Document\n",
    "import docx\n",
    "import re\n",
    "import pandas as pd\n",
    "#import nltk\n",
    "#import heapq\n",
    "import operator\n",
    "import csv\n",
    "\n",
    "st_list = list()\n",
    "with open('sw_polski.csv', newline='', encoding='windows-1250') as csvfile:\n",
    "    plik = csv.reader(csvfile)\n",
    "    for row in plik:\n",
    "        st_list.append(row[0])"
   ]
  },
  {
   "cell_type": "code",
   "execution_count": 16,
   "metadata": {
    "collapsed": true,
    "scrolled": true
   },
   "outputs": [],
   "source": [
    "class summarizer():\n",
    "    \n",
    "    def _init_(self):\n",
    "        self.text_to_score=''\n",
    "        self.text_to_model=''\n",
    "                \n",
    "    def summarize_please(self, file_path: str, impsents: int = 10, dropwordsfromdict: int = 0, sentlen2score: int = 27 ):\n",
    "        \n",
    "        try:\n",
    "            doc = Document(file_path)\n",
    "        except:\n",
    "            print('Brak pliku lub niewłaściwe rozszerzenie.\\nUpewnij się, że śieżka jest poprawna a plik ma rozszezrenie \"docx\".')\n",
    "            return None\n",
    "        \n",
    "        print('Przetwarzanie dokumentu...')\n",
    "        \n",
    "        self.text_to_score = self.txt_prep_sc(doc)\n",
    "        self.text_to_model = self.txt_prep_md(self.text_to_score)\n",
    "        \n",
    "        print('Ocena tekstu... \\n')\n",
    "        \n",
    "        self.sents_dict = self.scoring(dropwordsfromdict, sentlen2score)\n",
    "                \n",
    "        self.text_summary(impsents)\n",
    "        \n",
    "        \n",
    "     \n",
    "\n",
    "    def scoring(self, dropwordsfromdict, sentlen2score ):\n",
    "        word2count = {}\n",
    "        \n",
    "        for word in self.text_to_model.split():\n",
    "            if word not in st_list:\n",
    "                if word not in word2count.keys():\n",
    "                    word2count[word] = 1\n",
    "                else:\n",
    "                    word2count[word] += 1\n",
    "                    \n",
    "        if dropwordsfromdict>0:\n",
    "            for el in sorted(word2count.items(), key=operator.itemgetter(1), reverse=1 )[0:dropwordsfromdict-1]:\n",
    "                del word2count[el[0]]\n",
    "        \n",
    "        for key in word2count.keys():\n",
    "            word2count[key] = word2count[key]/max(word2count.values())\n",
    "            \n",
    "        sent_dict = {}\n",
    "        sents = [sent.strip() for sent in self.text_to_score.split('.') if (not sent=='' and not sent==' ')]\n",
    "        \n",
    "        for sentence in sents:\n",
    "            for word in sentence.split():\n",
    "                if word.lower() in word2count.keys():\n",
    "                    if len(sentence.split()) < sentlen2score:\n",
    "                        if sentence not in sent_dict.keys():\n",
    "                            sent_dict[sentence] = word2count[word.lower()]\n",
    "                        else:\n",
    "                            sent_dict[sentence] += word2count[word.lower()]\n",
    "        return sent_dict\n",
    "   \n",
    "\n",
    "    def text_summary(self, sent_count: int):\n",
    "        print('Najistotniejsze zdania to:', '\\n')\n",
    "        for el in sorted(self.sents_dict.items(), key=operator.itemgetter(1), reverse=1 )[0:sent_count]:\n",
    "            print('{}.\\n'.format(el[0]) )\n",
    "    \n",
    "    \n",
    "    @staticmethod\n",
    "    def txt_prep_sc(doc: docx.document.Document):\n",
    "        doc_text=''\n",
    "        dot_clean = ('np.', 'tzw.', ' ust.', 'tj.' )\n",
    "        space_rep = ('\\\\xa0', '[„”]', '\\s+' )\n",
    "            \n",
    "        for par in doc.paragraphs:\n",
    "            if (len(par.text)>2):\n",
    "                if (par.text.strip()[-1] == ',' or par.text.strip()[-1]==':' or par.text.strip()[-3:]=='lub'):\n",
    "                    doc_text+= par.text + ' '\n",
    "                else:\n",
    "                    doc_text+= par.text + '. '\n",
    "        \n",
    "        doc_text = re.sub('\\\\n', '. ', doc_text)\n",
    "        doc_text = re.sub('\\.\\.','.', doc_text)\n",
    "\n",
    "        for el in dot_clean:\n",
    "            doc_text = re.sub(el, el[0:-1], doc_text)\n",
    "            \n",
    "        for el in space_rep:\n",
    "            doc_text = re.sub(el, ' ', doc_text)\n",
    "            \n",
    "        return doc_text\n",
    "        \n",
    "        \n",
    "    @staticmethod\n",
    "    def txt_prep_md(text: str):\n",
    "        text_mod = re.sub('[()§.,;:\\-%\\\"—–„”]', ' ', text).lower()\n",
    "        text_mod = re.sub('\\d', ' ', text_mod)\n",
    "        text_mod = re.sub(' \\w ', ' ', text_mod)\n",
    "        text_mod = re.sub('\\s+', ' ', text_mod)\n",
    "        \n",
    "        return text_mod"
   ]
  },
  {
   "cell_type": "code",
   "execution_count": 17,
   "metadata": {
    "collapsed": true
   },
   "outputs": [],
   "source": [
    "a = summarizer()"
   ]
  },
  {
   "cell_type": "markdown",
   "metadata": {},
   "source": [
    "### Przykładowe wywołania\n",
    "\n",
    "#### summarize_please(file_path: str, impsents: int = 10, dropwordsfromdict: int = 0, sentlen2score: int = 27 )\n",
    "\n",
    "#### file_path \n",
    "obvious\n",
    "\n",
    "#### impsents\n",
    "liczba zdań, które chcemy wyświetlić\n",
    "\n",
    "#### dropwordsfromdict \n",
    "liczba najczęściej występujących słów, które chcemy usunąć ze słownika (usunięcie tych słów może wpłynąć na jakość podsumowania)\n",
    "\n",
    "#### sentlen2score\n",
    "maksymalna długość zdania, które chcemy oceniać (zbyt długie zdania mogą być fałśzywie oceniane jako informacyjne)"
   ]
  },
  {
   "cell_type": "code",
   "execution_count": 1,
   "metadata": {},
   "outputs": [
    {
     "ename": "NameError",
     "evalue": "name 'a' is not defined",
     "output_type": "error",
     "traceback": [
      "\u001b[1;31m---------------------------------------------------------------------------\u001b[0m",
      "\u001b[1;31mNameError\u001b[0m                                 Traceback (most recent call last)",
      "\u001b[1;32m<ipython-input-1-1b57e7a66f30>\u001b[0m in \u001b[0;36m<module>\u001b[1;34m()\u001b[0m\n\u001b[1;32m----> 1\u001b[1;33m \u001b[0ma\u001b[0m\u001b[1;33m.\u001b[0m\u001b[0msummarize_please\u001b[0m\u001b[1;33m(\u001b[0m\u001b[1;34m'doc.docx'\u001b[0m\u001b[1;33m,\u001b[0m \u001b[0msentlen2score\u001b[0m\u001b[1;33m=\u001b[0m\u001b[1;36m20\u001b[0m\u001b[1;33m)\u001b[0m\u001b[1;33m\u001b[0m\u001b[0m\n\u001b[0m",
      "\u001b[1;31mNameError\u001b[0m: name 'a' is not defined"
     ]
    }
   ],
   "source": [
    "a.summarize_please('doc.docx', sentlen2score=20)"
   ]
  },
  {
   "cell_type": "code",
   "execution_count": 2,
   "metadata": {},
   "outputs": [
    {
     "ename": "NameError",
     "evalue": "name 'a' is not defined",
     "output_type": "error",
     "traceback": [
      "\u001b[1;31m---------------------------------------------------------------------------\u001b[0m",
      "\u001b[1;31mNameError\u001b[0m                                 Traceback (most recent call last)",
      "\u001b[1;32m<ipython-input-2-7d68c9cadbe6>\u001b[0m in \u001b[0;36m<module>\u001b[1;34m()\u001b[0m\n\u001b[1;32m----> 1\u001b[1;33m \u001b[0ma\u001b[0m\u001b[1;33m.\u001b[0m\u001b[0msummarize_please\u001b[0m\u001b[1;33m(\u001b[0m\u001b[1;34m'doc.docx'\u001b[0m\u001b[1;33m,\u001b[0m \u001b[0mdropwordsfromdict\u001b[0m\u001b[1;33m=\u001b[0m\u001b[1;36m0\u001b[0m\u001b[1;33m,\u001b[0m \u001b[0mimpsents\u001b[0m\u001b[1;33m=\u001b[0m\u001b[1;36m15\u001b[0m\u001b[1;33m)\u001b[0m\u001b[1;33m\u001b[0m\u001b[0m\n\u001b[0m",
      "\u001b[1;31mNameError\u001b[0m: name 'a' is not defined"
     ]
    }
   ],
   "source": [
    "a.summarize_please('doc.docx', dropwordsfromdict=0, impsents=15)"
   ]
  },
  {
   "cell_type": "code",
   "execution_count": null,
   "metadata": {
    "collapsed": true
   },
   "outputs": [],
   "source": []
  }
 ],
 "metadata": {
  "kernelspec": {
   "display_name": "Python 3",
   "language": "python",
   "name": "python3"
  },
  "language_info": {
   "codemirror_mode": {
    "name": "ipython",
    "version": 3
   },
   "file_extension": ".py",
   "mimetype": "text/x-python",
   "name": "python",
   "nbconvert_exporter": "python",
   "pygments_lexer": "ipython3",
   "version": "3.6.3"
  }
 },
 "nbformat": 4,
 "nbformat_minor": 2
}
